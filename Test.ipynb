{
  "nbformat": 4,
  "nbformat_minor": 0,
  "metadata": {
    "colab": {
      "provenance": [],
      "authorship_tag": "ABX9TyOUEw0jUmc7Htx3/MVfhneR",
      "include_colab_link": true
    },
    "kernelspec": {
      "name": "python3",
      "display_name": "Python 3"
    },
    "language_info": {
      "name": "python"
    }
  },
  "cells": [
    {
      "cell_type": "markdown",
      "metadata": {
        "id": "view-in-github",
        "colab_type": "text"
      },
      "source": [
        "<a href=\"https://colab.research.google.com/github/MariyaSpiridonova/Sechenov/blob/main/Test.ipynb\" target=\"_parent\"><img src=\"https://colab.research.google.com/assets/colab-badge.svg\" alt=\"Open In Colab\"/></a>"
      ]
    },
    {
      "cell_type": "markdown",
      "source": [
        "текстовое поле"
      ],
      "metadata": {
        "id": "gGIzCFYwN7d7"
      }
    },
    {
      "cell_type": "code",
      "execution_count": null,
      "metadata": {
        "colab": {
          "base_uri": "https://localhost:8080/"
        },
        "id": "yc7jbj4wNhIU",
        "outputId": "c635999f-a94b-4585-d54c-d8544a6c627f"
      },
      "outputs": [
        {
          "output_type": "stream",
          "name": "stdout",
          "text": [
            "кодовое поле\n"
          ]
        }
      ],
      "source": [
        "print(\"кодовое поле\")"
      ]
    },
    {
      "cell_type": "code",
      "source": [
        "print(\"еще одно поле\")"
      ],
      "metadata": {
        "id": "ziPFUCLfiBB2",
        "outputId": "9637824a-c648-45e6-868e-a5abfc16cde7",
        "colab": {
          "base_uri": "https://localhost:8080/"
        }
      },
      "execution_count": 1,
      "outputs": [
        {
          "output_type": "stream",
          "name": "stdout",
          "text": [
            "еще одно поле\n"
          ]
        }
      ]
    }
  ]
}